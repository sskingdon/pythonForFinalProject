{
 "cells": [
  {
   "cell_type": "code",
   "execution_count": 9,
   "metadata": {
    "collapsed": false
   },
   "outputs": [],
   "source": [
    "#encoding=utf-8\n",
    "import jieba\n",
    "jieba.load_userdict(\"Northeast.txt\")"
   ]
  },
  {
   "cell_type": "code",
   "execution_count": 10,
   "metadata": {
    "collapsed": true
   },
   "outputs": [],
   "source": [
    "content = open('northeastcontent.csv',encoding=\"UTF-8\").read()"
   ]
  },
  {
   "cell_type": "code",
   "execution_count": 11,
   "metadata": {
    "collapsed": true
   },
   "outputs": [],
   "source": [
    "import pandas as pd\n",
    "df = pd.read_csv('1234.csv')"
   ]
  },
  {
   "cell_type": "code",
   "execution_count": 12,
   "metadata": {
    "collapsed": true
   },
   "outputs": [],
   "source": [
    "\n",
    "tt=[]\n",
    "with open('Northeast.txt',encoding=\"UTF-8\") as f:\n",
    "    for i in f:\n",
    "      tt.append(i.strip())"
   ]
  },
  {
   "cell_type": "code",
   "execution_count": 15,
   "metadata": {
    "collapsed": false
   },
   "outputs": [
    {
     "name": "stdout",
     "output_type": "stream",
     "text": [
      "{'函館朝市', '金森倉庫群'}\n",
      "{'函館空港', '函館朝市', '金森倉庫群', '戲雪樂園'}\n",
      "{'青森', '函館朝市', '下北半島', '津輕', '弘前', '新函館北斗'}\n",
      "{'函館山夜景', '三井OUTLET'}\n",
      "{'青森', '新函館北斗', '新青森', '奧入瀨溪流'}\n",
      "{'大間崎', '函館朝市', '金森倉庫群', '函館山夜景'}\n",
      "{'八戶', '弘前', '新青森', '新函館北斗'}\n",
      "{'金森倉庫群', '函館山夜景'}\n",
      "{'青森', '八戶'}\n",
      "{'函館朝市', '稻荷神社'}\n",
      "{'函館朝市', '金森倉庫群'}\n",
      "{'青森', '山寺', '霞城', '睡魔之家', '五大堂', '仙台城', '弘前', '山形', '仙台', '松島'}\n",
      "{'青森', '津輕', '函館空港', '函館朝市', '函館山夜景'}\n",
      "{'金森倉庫群', '函館山夜景'}\n",
      "{'青森', '新函館北斗'}\n",
      "{'函館空港', '函館朝市', '函館山夜景'}\n",
      "{'青森', '函館朝市', '松島'}\n",
      "{'青森', '弘前', '函館朝市', '松島'}\n",
      "{'八戶', '秋田'}\n",
      "{'青森', '新青森', '福島', '函館山夜景', '函館朝市', '田澤湖', '角館', '秋田', '秋田內陸', '弘前', '山形', '角館武家屋敷', '弘前城'}\n",
      "{'函館空港', '函館朝市'}\n",
      "{'金森倉庫群', '函館山夜景'}\n",
      "{'山形', '函館朝市'}\n",
      "{'津輕', '函館山夜景'}\n",
      "{'青森', '函館朝市'}\n",
      "{'函館空港', '金森倉庫群'}\n",
      "{'津輕', '金森倉庫群'}\n",
      "{'青森', '津輕', '弘前', '函館朝市', '函館山夜景'}\n",
      "{'青森', '函館朝市', '函館山夜景'}\n",
      "{'青森', '函館朝市'}\n",
      "{'金森倉庫群', '星野度假村'}\n",
      "{'函館朝市', '金森倉庫群', '岩手'}\n",
      "{'函館朝市', '金森倉庫群', '岩手'}\n",
      "{'青森', '新青森'}\n",
      "{'函館朝市', '金森倉庫群'}\n",
      "{'青森', '秋田'}\n",
      "{'函館朝市', '金森倉庫群'}\n",
      "{'青森', '新青森', '函館山夜景', '秋田'}\n",
      "{'函館朝市', '函館山夜景'}\n",
      "{'青森', '八戶', '福島', '十和田湖', '山形', '仙台', '松島'}\n",
      "{'函館朝市', '函館山夜景', '星野度假村'}\n",
      "{'函館朝市', '金森倉庫群', '函館山夜景'}\n",
      "{'函館朝市', '函館山夜景'}\n",
      "{'青森', '津輕', '新青森'}\n",
      "{'松島', '函館山夜景'}\n",
      "{'函館朝市', '函館山夜景'}\n",
      "{'青森', '新青森'}\n",
      "{'青森', '函館朝市'}\n",
      "{'青森', '角館'}\n",
      "{'小岩井農場', '五大堂', '十和田湖', '中尊寺', '金色堂', '仙台', '松島', '盛岡手工藝村'}\n",
      "{'函館朝市', '金森倉庫群'}\n"
     ]
    }
   ],
   "source": [
    "A=set()\n",
    "for partcontent in df['content']:\n",
    "    words=jieba.cut(partcontent)\n",
    "    for word in words:\n",
    "        for ltt in tt:\n",
    "            if word == ltt:\n",
    "                A.add(ltt)\n",
    "    if len(A)>1:\n",
    "        print(A)\n",
    "    A=set()"
   ]
  },
  {
   "cell_type": "code",
   "execution_count": null,
   "metadata": {
    "collapsed": true
   },
   "outputs": [],
   "source": []
  }
 ],
 "metadata": {
  "kernelspec": {
   "display_name": "Python [default]",
   "language": "python",
   "name": "python3"
  },
  "language_info": {
   "codemirror_mode": {
    "name": "ipython",
    "version": 3
   },
   "file_extension": ".py",
   "mimetype": "text/x-python",
   "name": "python",
   "nbconvert_exporter": "python",
   "pygments_lexer": "ipython3",
   "version": "3.5.2"
  }
 },
 "nbformat": 4,
 "nbformat_minor": 1
}
